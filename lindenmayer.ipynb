{
 "cells": [
  {
   "cell_type": "markdown",
   "metadata": {},
   "source": [
    "# Lindenmayer System: Python 3\n",
    "See: https://en.wikipedia.org/wiki/L-system\n",
    "\n",
    "Visualisation using Matplotlib"
   ]
  },
  {
   "cell_type": "code",
   "execution_count": 8,
   "metadata": {},
   "outputs": [],
   "source": [
    "# Dependencies\n",
    "import matplotlib.pyplot as plt\n",
    "import numpy as np"
   ]
  },
  {
   "cell_type": "code",
   "execution_count": 72,
   "metadata": {},
   "outputs": [],
   "source": [
    "# Parameters:\n",
    "axiom = \"A\"\n",
    "rule1 = \"BA\"\n",
    "rule2 = \"AAB\"\n",
    "iterations = 10"
   ]
  },
  {
   "cell_type": "code",
   "execution_count": 73,
   "metadata": {},
   "outputs": [],
   "source": [
    "# Function:\n",
    "def generate(sentence):\n",
    "    nextSentence = \"\"\n",
    "    for i in range(0,len(sentence)):\n",
    "        bit = sentence[i]\n",
    "        if bit == rule1[0]:\n",
    "            nextSentence += rule1[1:]\n",
    "        elif bit == rule2[0]:\n",
    "            nextSentence += rule2[1:]\n",
    "    return nextSentence"
   ]
  },
  {
   "cell_type": "code",
   "execution_count": 74,
   "metadata": {
    "scrolled": true
   },
   "outputs": [
    {
     "name": "stdout",
     "output_type": "stream",
     "text": [
      "A\n",
      "AB\n",
      "ABA\n",
      "ABAAB\n",
      "ABAABABA\n",
      "ABAABABAABAAB\n",
      "ABAABABAABAABABAABABA\n",
      "ABAABABAABAABABAABABAABAABABAABAAB\n",
      "ABAABABAABAABABAABABAABAABABAABAABABAABABAABAABABAABABA\n",
      "ABAABABAABAABABAABABAABAABABAABAABABAABABAABAABABAABABAABAABABAABAABABAABABAABAABABAABAAB\n"
     ]
    }
   ],
   "source": [
    "paragraph = axiom # initialize\n",
    "for i in range(iterations):\n",
    "    print(paragraph)\n",
    "    paragraph = generate(paragraph)"
   ]
  }
 ],
 "metadata": {
  "kernelspec": {
   "display_name": "Python 3",
   "language": "python",
   "name": "python3"
  },
  "language_info": {
   "codemirror_mode": {
    "name": "ipython",
    "version": 3
   },
   "file_extension": ".py",
   "mimetype": "text/x-python",
   "name": "python",
   "nbconvert_exporter": "python",
   "pygments_lexer": "ipython3",
   "version": "3.7.1"
  }
 },
 "nbformat": 4,
 "nbformat_minor": 2
}
